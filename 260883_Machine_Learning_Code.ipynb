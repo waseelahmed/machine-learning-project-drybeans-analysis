{
 "cells": [
  {
   "cell_type": "code",
   "execution_count": null,
   "metadata": {
    "id": "_OYFT5rYAWNv"
   },
   "outputs": [],
   "source": [
    "import pandas as pd\n",
    "import numpy as np\n",
    "import seaborn as sns\n",
    "import matplotlib.pyplot as plt\n"
   ]
  },
  {
   "cell_type": "code",
   "execution_count": null,
   "metadata": {
    "colab": {
     "base_uri": "https://localhost:8080/",
     "height": 488
    },
    "id": "mDZ7gGduAd03",
    "outputId": "78c2a7cd-242c-4d29-e9ac-fed1d948bdc5"
   },
   "outputs": [
    {
     "data": {
      "text/html": [
       "\n",
       "  <div id=\"df-15f13840-3d02-4962-a59e-cad7ebce92ad\">\n",
       "    <div class=\"colab-df-container\">\n",
       "      <div>\n",
       "<style scoped>\n",
       "    .dataframe tbody tr th:only-of-type {\n",
       "        vertical-align: middle;\n",
       "    }\n",
       "\n",
       "    .dataframe tbody tr th {\n",
       "        vertical-align: top;\n",
       "    }\n",
       "\n",
       "    .dataframe thead th {\n",
       "        text-align: right;\n",
       "    }\n",
       "</style>\n",
       "<table border=\"1\" class=\"dataframe\">\n",
       "  <thead>\n",
       "    <tr style=\"text-align: right;\">\n",
       "      <th></th>\n",
       "      <th>Area</th>\n",
       "      <th>Perimeter</th>\n",
       "      <th>MajorAxisLength</th>\n",
       "      <th>MinorAxisLength</th>\n",
       "      <th>AspectRation</th>\n",
       "      <th>Eccentricity</th>\n",
       "      <th>ConvexArea</th>\n",
       "      <th>EquivDiameter</th>\n",
       "      <th>Extent</th>\n",
       "      <th>Solidity</th>\n",
       "      <th>roundness</th>\n",
       "      <th>Compactness</th>\n",
       "      <th>ShapeFactor1</th>\n",
       "      <th>ShapeFactor2</th>\n",
       "      <th>ShapeFactor3</th>\n",
       "      <th>ShapeFactor4</th>\n",
       "      <th>Class</th>\n",
       "    </tr>\n",
       "  </thead>\n",
       "  <tbody>\n",
       "    <tr>\n",
       "      <th>0</th>\n",
       "      <td>28395</td>\n",
       "      <td>610.291</td>\n",
       "      <td>208.178117</td>\n",
       "      <td>173.888747</td>\n",
       "      <td>1.197191</td>\n",
       "      <td>0.549812</td>\n",
       "      <td>28715</td>\n",
       "      <td>190.141097</td>\n",
       "      <td>0.763923</td>\n",
       "      <td>0.988856</td>\n",
       "      <td>0.958027</td>\n",
       "      <td>0.913358</td>\n",
       "      <td>0.007332</td>\n",
       "      <td>0.003147</td>\n",
       "      <td>0.834222</td>\n",
       "      <td>0.998724</td>\n",
       "      <td>SEKER</td>\n",
       "    </tr>\n",
       "    <tr>\n",
       "      <th>1</th>\n",
       "      <td>28734</td>\n",
       "      <td>638.018</td>\n",
       "      <td>200.524796</td>\n",
       "      <td>182.734419</td>\n",
       "      <td>1.097356</td>\n",
       "      <td>0.411785</td>\n",
       "      <td>29172</td>\n",
       "      <td>191.272750</td>\n",
       "      <td>0.783968</td>\n",
       "      <td>0.984986</td>\n",
       "      <td>0.887034</td>\n",
       "      <td>0.953861</td>\n",
       "      <td>0.006979</td>\n",
       "      <td>0.003564</td>\n",
       "      <td>0.909851</td>\n",
       "      <td>0.998430</td>\n",
       "      <td>SEKER</td>\n",
       "    </tr>\n",
       "    <tr>\n",
       "      <th>2</th>\n",
       "      <td>29380</td>\n",
       "      <td>624.110</td>\n",
       "      <td>212.826130</td>\n",
       "      <td>175.931143</td>\n",
       "      <td>1.209713</td>\n",
       "      <td>0.562727</td>\n",
       "      <td>29690</td>\n",
       "      <td>193.410904</td>\n",
       "      <td>0.778113</td>\n",
       "      <td>0.989559</td>\n",
       "      <td>0.947849</td>\n",
       "      <td>0.908774</td>\n",
       "      <td>0.007244</td>\n",
       "      <td>0.003048</td>\n",
       "      <td>0.825871</td>\n",
       "      <td>0.999066</td>\n",
       "      <td>SEKER</td>\n",
       "    </tr>\n",
       "    <tr>\n",
       "      <th>3</th>\n",
       "      <td>30008</td>\n",
       "      <td>645.884</td>\n",
       "      <td>210.557999</td>\n",
       "      <td>182.516516</td>\n",
       "      <td>1.153638</td>\n",
       "      <td>0.498616</td>\n",
       "      <td>30724</td>\n",
       "      <td>195.467062</td>\n",
       "      <td>0.782681</td>\n",
       "      <td>0.976696</td>\n",
       "      <td>0.903936</td>\n",
       "      <td>0.928329</td>\n",
       "      <td>0.007017</td>\n",
       "      <td>0.003215</td>\n",
       "      <td>0.861794</td>\n",
       "      <td>0.994199</td>\n",
       "      <td>SEKER</td>\n",
       "    </tr>\n",
       "    <tr>\n",
       "      <th>4</th>\n",
       "      <td>30140</td>\n",
       "      <td>620.134</td>\n",
       "      <td>201.847882</td>\n",
       "      <td>190.279279</td>\n",
       "      <td>1.060798</td>\n",
       "      <td>0.333680</td>\n",
       "      <td>30417</td>\n",
       "      <td>195.896503</td>\n",
       "      <td>0.773098</td>\n",
       "      <td>0.990893</td>\n",
       "      <td>0.984877</td>\n",
       "      <td>0.970516</td>\n",
       "      <td>0.006697</td>\n",
       "      <td>0.003665</td>\n",
       "      <td>0.941900</td>\n",
       "      <td>0.999166</td>\n",
       "      <td>SEKER</td>\n",
       "    </tr>\n",
       "    <tr>\n",
       "      <th>...</th>\n",
       "      <td>...</td>\n",
       "      <td>...</td>\n",
       "      <td>...</td>\n",
       "      <td>...</td>\n",
       "      <td>...</td>\n",
       "      <td>...</td>\n",
       "      <td>...</td>\n",
       "      <td>...</td>\n",
       "      <td>...</td>\n",
       "      <td>...</td>\n",
       "      <td>...</td>\n",
       "      <td>...</td>\n",
       "      <td>...</td>\n",
       "      <td>...</td>\n",
       "      <td>...</td>\n",
       "      <td>...</td>\n",
       "      <td>...</td>\n",
       "    </tr>\n",
       "    <tr>\n",
       "      <th>13606</th>\n",
       "      <td>42097</td>\n",
       "      <td>759.696</td>\n",
       "      <td>288.721612</td>\n",
       "      <td>185.944705</td>\n",
       "      <td>1.552728</td>\n",
       "      <td>0.765002</td>\n",
       "      <td>42508</td>\n",
       "      <td>231.515799</td>\n",
       "      <td>0.714574</td>\n",
       "      <td>0.990331</td>\n",
       "      <td>0.916603</td>\n",
       "      <td>0.801865</td>\n",
       "      <td>0.006858</td>\n",
       "      <td>0.001749</td>\n",
       "      <td>0.642988</td>\n",
       "      <td>0.998385</td>\n",
       "      <td>DERMASON</td>\n",
       "    </tr>\n",
       "    <tr>\n",
       "      <th>13607</th>\n",
       "      <td>42101</td>\n",
       "      <td>757.499</td>\n",
       "      <td>281.576392</td>\n",
       "      <td>190.713136</td>\n",
       "      <td>1.476439</td>\n",
       "      <td>0.735702</td>\n",
       "      <td>42494</td>\n",
       "      <td>231.526798</td>\n",
       "      <td>0.799943</td>\n",
       "      <td>0.990752</td>\n",
       "      <td>0.922015</td>\n",
       "      <td>0.822252</td>\n",
       "      <td>0.006688</td>\n",
       "      <td>0.001886</td>\n",
       "      <td>0.676099</td>\n",
       "      <td>0.998219</td>\n",
       "      <td>DERMASON</td>\n",
       "    </tr>\n",
       "    <tr>\n",
       "      <th>13608</th>\n",
       "      <td>42139</td>\n",
       "      <td>759.321</td>\n",
       "      <td>281.539928</td>\n",
       "      <td>191.187979</td>\n",
       "      <td>1.472582</td>\n",
       "      <td>0.734065</td>\n",
       "      <td>42569</td>\n",
       "      <td>231.631261</td>\n",
       "      <td>0.729932</td>\n",
       "      <td>0.989899</td>\n",
       "      <td>0.918424</td>\n",
       "      <td>0.822730</td>\n",
       "      <td>0.006681</td>\n",
       "      <td>0.001888</td>\n",
       "      <td>0.676884</td>\n",
       "      <td>0.996767</td>\n",
       "      <td>DERMASON</td>\n",
       "    </tr>\n",
       "    <tr>\n",
       "      <th>13609</th>\n",
       "      <td>42147</td>\n",
       "      <td>763.779</td>\n",
       "      <td>283.382636</td>\n",
       "      <td>190.275731</td>\n",
       "      <td>1.489326</td>\n",
       "      <td>0.741055</td>\n",
       "      <td>42667</td>\n",
       "      <td>231.653248</td>\n",
       "      <td>0.705389</td>\n",
       "      <td>0.987813</td>\n",
       "      <td>0.907906</td>\n",
       "      <td>0.817457</td>\n",
       "      <td>0.006724</td>\n",
       "      <td>0.001852</td>\n",
       "      <td>0.668237</td>\n",
       "      <td>0.995222</td>\n",
       "      <td>DERMASON</td>\n",
       "    </tr>\n",
       "    <tr>\n",
       "      <th>13610</th>\n",
       "      <td>42159</td>\n",
       "      <td>772.237</td>\n",
       "      <td>295.142741</td>\n",
       "      <td>182.204716</td>\n",
       "      <td>1.619841</td>\n",
       "      <td>0.786693</td>\n",
       "      <td>42600</td>\n",
       "      <td>231.686223</td>\n",
       "      <td>0.788962</td>\n",
       "      <td>0.989648</td>\n",
       "      <td>0.888380</td>\n",
       "      <td>0.784997</td>\n",
       "      <td>0.007001</td>\n",
       "      <td>0.001640</td>\n",
       "      <td>0.616221</td>\n",
       "      <td>0.998180</td>\n",
       "      <td>DERMASON</td>\n",
       "    </tr>\n",
       "  </tbody>\n",
       "</table>\n",
       "<p>13611 rows × 17 columns</p>\n",
       "</div>\n",
       "      <button class=\"colab-df-convert\" onclick=\"convertToInteractive('df-15f13840-3d02-4962-a59e-cad7ebce92ad')\"\n",
       "              title=\"Convert this dataframe to an interactive table.\"\n",
       "              style=\"display:none;\">\n",
       "        \n",
       "  <svg xmlns=\"http://www.w3.org/2000/svg\" height=\"24px\"viewBox=\"0 0 24 24\"\n",
       "       width=\"24px\">\n",
       "    <path d=\"M0 0h24v24H0V0z\" fill=\"none\"/>\n",
       "    <path d=\"M18.56 5.44l.94 2.06.94-2.06 2.06-.94-2.06-.94-.94-2.06-.94 2.06-2.06.94zm-11 1L8.5 8.5l.94-2.06 2.06-.94-2.06-.94L8.5 2.5l-.94 2.06-2.06.94zm10 10l.94 2.06.94-2.06 2.06-.94-2.06-.94-.94-2.06-.94 2.06-2.06.94z\"/><path d=\"M17.41 7.96l-1.37-1.37c-.4-.4-.92-.59-1.43-.59-.52 0-1.04.2-1.43.59L10.3 9.45l-7.72 7.72c-.78.78-.78 2.05 0 2.83L4 21.41c.39.39.9.59 1.41.59.51 0 1.02-.2 1.41-.59l7.78-7.78 2.81-2.81c.8-.78.8-2.07 0-2.86zM5.41 20L4 18.59l7.72-7.72 1.47 1.35L5.41 20z\"/>\n",
       "  </svg>\n",
       "      </button>\n",
       "      \n",
       "  <style>\n",
       "    .colab-df-container {\n",
       "      display:flex;\n",
       "      flex-wrap:wrap;\n",
       "      gap: 12px;\n",
       "    }\n",
       "\n",
       "    .colab-df-convert {\n",
       "      background-color: #E8F0FE;\n",
       "      border: none;\n",
       "      border-radius: 50%;\n",
       "      cursor: pointer;\n",
       "      display: none;\n",
       "      fill: #1967D2;\n",
       "      height: 32px;\n",
       "      padding: 0 0 0 0;\n",
       "      width: 32px;\n",
       "    }\n",
       "\n",
       "    .colab-df-convert:hover {\n",
       "      background-color: #E2EBFA;\n",
       "      box-shadow: 0px 1px 2px rgba(60, 64, 67, 0.3), 0px 1px 3px 1px rgba(60, 64, 67, 0.15);\n",
       "      fill: #174EA6;\n",
       "    }\n",
       "\n",
       "    [theme=dark] .colab-df-convert {\n",
       "      background-color: #3B4455;\n",
       "      fill: #D2E3FC;\n",
       "    }\n",
       "\n",
       "    [theme=dark] .colab-df-convert:hover {\n",
       "      background-color: #434B5C;\n",
       "      box-shadow: 0px 1px 3px 1px rgba(0, 0, 0, 0.15);\n",
       "      filter: drop-shadow(0px 1px 2px rgba(0, 0, 0, 0.3));\n",
       "      fill: #FFFFFF;\n",
       "    }\n",
       "  </style>\n",
       "\n",
       "      <script>\n",
       "        const buttonEl =\n",
       "          document.querySelector('#df-15f13840-3d02-4962-a59e-cad7ebce92ad button.colab-df-convert');\n",
       "        buttonEl.style.display =\n",
       "          google.colab.kernel.accessAllowed ? 'block' : 'none';\n",
       "\n",
       "        async function convertToInteractive(key) {\n",
       "          const element = document.querySelector('#df-15f13840-3d02-4962-a59e-cad7ebce92ad');\n",
       "          const dataTable =\n",
       "            await google.colab.kernel.invokeFunction('convertToInteractive',\n",
       "                                                     [key], {});\n",
       "          if (!dataTable) return;\n",
       "\n",
       "          const docLinkHtml = 'Like what you see? Visit the ' +\n",
       "            '<a target=\"_blank\" href=https://colab.research.google.com/notebooks/data_table.ipynb>data table notebook</a>'\n",
       "            + ' to learn more about interactive tables.';\n",
       "          element.innerHTML = '';\n",
       "          dataTable['output_type'] = 'display_data';\n",
       "          await google.colab.output.renderOutput(dataTable, element);\n",
       "          const docLink = document.createElement('div');\n",
       "          docLink.innerHTML = docLinkHtml;\n",
       "          element.appendChild(docLink);\n",
       "        }\n",
       "      </script>\n",
       "    </div>\n",
       "  </div>\n",
       "  "
      ],
      "text/plain": [
       "        Area  Perimeter  MajorAxisLength  MinorAxisLength  AspectRation  \\\n",
       "0      28395    610.291       208.178117       173.888747      1.197191   \n",
       "1      28734    638.018       200.524796       182.734419      1.097356   \n",
       "2      29380    624.110       212.826130       175.931143      1.209713   \n",
       "3      30008    645.884       210.557999       182.516516      1.153638   \n",
       "4      30140    620.134       201.847882       190.279279      1.060798   \n",
       "...      ...        ...              ...              ...           ...   \n",
       "13606  42097    759.696       288.721612       185.944705      1.552728   \n",
       "13607  42101    757.499       281.576392       190.713136      1.476439   \n",
       "13608  42139    759.321       281.539928       191.187979      1.472582   \n",
       "13609  42147    763.779       283.382636       190.275731      1.489326   \n",
       "13610  42159    772.237       295.142741       182.204716      1.619841   \n",
       "\n",
       "       Eccentricity  ConvexArea  EquivDiameter    Extent  Solidity  roundness  \\\n",
       "0          0.549812       28715     190.141097  0.763923  0.988856   0.958027   \n",
       "1          0.411785       29172     191.272750  0.783968  0.984986   0.887034   \n",
       "2          0.562727       29690     193.410904  0.778113  0.989559   0.947849   \n",
       "3          0.498616       30724     195.467062  0.782681  0.976696   0.903936   \n",
       "4          0.333680       30417     195.896503  0.773098  0.990893   0.984877   \n",
       "...             ...         ...            ...       ...       ...        ...   \n",
       "13606      0.765002       42508     231.515799  0.714574  0.990331   0.916603   \n",
       "13607      0.735702       42494     231.526798  0.799943  0.990752   0.922015   \n",
       "13608      0.734065       42569     231.631261  0.729932  0.989899   0.918424   \n",
       "13609      0.741055       42667     231.653248  0.705389  0.987813   0.907906   \n",
       "13610      0.786693       42600     231.686223  0.788962  0.989648   0.888380   \n",
       "\n",
       "       Compactness  ShapeFactor1  ShapeFactor2  ShapeFactor3  ShapeFactor4  \\\n",
       "0         0.913358      0.007332      0.003147      0.834222      0.998724   \n",
       "1         0.953861      0.006979      0.003564      0.909851      0.998430   \n",
       "2         0.908774      0.007244      0.003048      0.825871      0.999066   \n",
       "3         0.928329      0.007017      0.003215      0.861794      0.994199   \n",
       "4         0.970516      0.006697      0.003665      0.941900      0.999166   \n",
       "...            ...           ...           ...           ...           ...   \n",
       "13606     0.801865      0.006858      0.001749      0.642988      0.998385   \n",
       "13607     0.822252      0.006688      0.001886      0.676099      0.998219   \n",
       "13608     0.822730      0.006681      0.001888      0.676884      0.996767   \n",
       "13609     0.817457      0.006724      0.001852      0.668237      0.995222   \n",
       "13610     0.784997      0.007001      0.001640      0.616221      0.998180   \n",
       "\n",
       "          Class  \n",
       "0         SEKER  \n",
       "1         SEKER  \n",
       "2         SEKER  \n",
       "3         SEKER  \n",
       "4         SEKER  \n",
       "...         ...  \n",
       "13606  DERMASON  \n",
       "13607  DERMASON  \n",
       "13608  DERMASON  \n",
       "13609  DERMASON  \n",
       "13610  DERMASON  \n",
       "\n",
       "[13611 rows x 17 columns]"
      ]
     },
     "execution_count": 3,
     "metadata": {},
     "output_type": "execute_result"
    }
   ],
   "source": [
    "data=pd.read_excel(r\"/Dry_Bean_Dataset.xlsx\")\n",
    "#type(data)  #Data frame    \n",
    "data"
   ]
  },
  {
   "cell_type": "code",
   "execution_count": null,
   "metadata": {
    "colab": {
     "base_uri": "https://localhost:8080/"
    },
    "id": "rZ_1_6BFAQfK",
    "outputId": "b88ed354-97f1-4893-f607-b6771186b9d7"
   },
   "outputs": [
    {
     "data": {
      "text/plain": [
       "Area               13611\n",
       "Perimeter          13611\n",
       "MajorAxisLength    13611\n",
       "MinorAxisLength    13611\n",
       "AspectRation       13611\n",
       "Eccentricity       13611\n",
       "ConvexArea         13611\n",
       "EquivDiameter      13611\n",
       "Extent             13611\n",
       "Solidity           13611\n",
       "roundness          13611\n",
       "Compactness        13611\n",
       "ShapeFactor1       13611\n",
       "ShapeFactor2       13611\n",
       "ShapeFactor3       13611\n",
       "ShapeFactor4       13611\n",
       "Class              13611\n",
       "dtype: int64"
      ]
     },
     "execution_count": 5,
     "metadata": {},
     "output_type": "execute_result"
    }
   ],
   "source": [
    "data.notnull().count()"
   ]
  },
  {
   "cell_type": "markdown",
   "metadata": {
    "id": "yqF5zCz_Anux"
   },
   "source": [
    "Above values shows that there is no missing values in our Dataset\n"
   ]
  },
  {
   "cell_type": "code",
   "execution_count": null,
   "metadata": {
    "colab": {
     "base_uri": "https://localhost:8080/",
     "height": 466
    },
    "id": "MkJ4HYwHA2aY",
    "outputId": "d20f286d-d60a-4dac-eda1-a080a0fc20ae"
   },
   "outputs": [
    {
     "data": {
      "text/plain": [
       "<Axes: xlabel='Class', ylabel='Count'>"
      ]
     },
     "execution_count": 6,
     "metadata": {},
     "output_type": "execute_result"
    },
    {
     "data": {
      "image/png": "[encoded data removed]",
      "text/plain": [
       "<Figure size 640x480 with 1 Axes>"
      ]
     },
     "metadata": {},
     "output_type": "display_data"
    }
   ],
   "source": [
    "sns.set_style(\"darkgrid\")\n",
    "\n",
    "sns.histplot(data=data,  x=\"Class\", discrete=False)\n"
   ]
  },
  {
   "cell_type": "markdown",
   "metadata": {
    "id": "PClenq62T-HG"
   },
   "source": [
    "Box Plot"
   ]
  },
  {
   "cell_type": "code",
   "execution_count": null,
   "metadata": {
    "colab": {
     "base_uri": "https://localhost:8080/",
     "height": 458
    },
    "id": "ClMe-87BS0TZ",
    "outputId": "e6f1f19d-e050-4bd7-ed00-669b37b12098"
   },
   "outputs": [
    {
     "data": {
      "text/plain": [
       "[Text(0, 0.5, 'Bean Type')]"
      ]
     },
     "execution_count": 7,
     "metadata": {},
     "output_type": "execute_result"
    },
    {
     "data": {
      "image/png": "[encoded data removed]",
      "text/plain": [
       "<Figure size 1200x600 with 1 Axes>"
      ]
     },
     "metadata": {},
     "output_type": "display_data"
    }
   ],
   "source": [
    "# Displaying Boxplot\n",
    "\n",
    "f, ax = plt.subplots(figsize=(12, 6))\n",
    "sns.boxplot(x=\"Area\", y=\"Class\", data=data, width=.4)\n",
    "ax.xaxis.grid(True)\n",
    "ax.set(ylabel=\"Bean Type\")"
   ]
  },
  {
   "cell_type": "code",
   "execution_count": null,
   "metadata": {
    "colab": {
     "base_uri": "https://localhost:8080/",
     "height": 704
    },
    "id": "TopBhcLubbeJ",
    "outputId": "db3ceb8b-7ace-482f-b3bb-7a1163f5538f"
   },
   "outputs": [
    {
     "name": "stderr",
     "output_type": "stream",
     "text": [
      "<ipython-input-8-6244cc5aca68>:2: FutureWarning: The default value of numeric_only in DataFrame.corr is deprecated. In a future version, it will default to False. Select only valid columns or specify the value of numeric_only to silence this warning.\n",
      "  corr = data.corr()\n"
     ]
    },
    {
     "data": {
      "image/png": "[encoded data removed]",
      "text/plain": [
       "<Figure size 700x600 with 2 Axes>"
      ]
     },
     "metadata": {},
     "output_type": "display_data"
    }
   ],
   "source": [
    "# Displaying Heatmap\n",
    "\n",
    "\n",
    "f, ax = plt.subplots(figsize=(7, 6))\n",
    "corr = data.corr()\n",
    "sns.heatmap(corr, cmap='coolwarm')\n",
    "ax.set(xlabel=\"Correlation between parameters\")\n",
    "f.show()\n"
   ]
  },
  {
   "cell_type": "code",
   "execution_count": null,
   "metadata": {
    "id": "RE5U5rkfCSFj"
   },
   "outputs": [],
   "source": [
    "import matplotlib.pyplot as plt\n",
    "from sklearn.model_selection import train_test_split\n",
    "\n",
    "def split_features_label(data):\n",
    "  features = pd.DataFrame(data, columns=data.columns[0:-1]) #Features obtained Dataframe, except the class\n",
    "  labels = data[data.columns[-1]].to_frame()                #Label obtained from last column\n",
    "  return features, labels\n",
    "\n",
    "\n"
   ]
  },
  {
   "cell_type": "code",
   "execution_count": null,
   "metadata": {
    "id": "GNiT5sAzs_gx"
   },
   "outputs": [],
   "source": [
    "feat, labels = split_features_label(data)"
   ]
  },
  {
   "cell_type": "code",
   "execution_count": null,
   "metadata": {
    "colab": {
     "base_uri": "https://localhost:8080/",
     "height": 488
    },
    "id": "OaQzVV06pjMz",
    "outputId": "7a5ea644-95bf-4cd3-cc41-1601ff558b73"
   },
   "outputs": [
    {
     "data": {
      "text/html": [
       "\n",
       "  <div id=\"df-d0c7ec44-01eb-470e-b8dc-08413931be75\">\n",
       "    <div class=\"colab-df-container\">\n",
       "      <div>\n",
       "<style scoped>\n",
       "    .dataframe tbody tr th:only-of-type {\n",
       "        vertical-align: middle;\n",
       "    }\n",
       "\n",
       "    .dataframe tbody tr th {\n",
       "        vertical-align: top;\n",
       "    }\n",
       "\n",
       "    .dataframe thead th {\n",
       "        text-align: right;\n",
       "    }\n",
       "</style>\n",
       "<table border=\"1\" class=\"dataframe\">\n",
       "  <thead>\n",
       "    <tr style=\"text-align: right;\">\n",
       "      <th></th>\n",
       "      <th>Area</th>\n",
       "      <th>Perimeter</th>\n",
       "      <th>MajorAxisLength</th>\n",
       "      <th>MinorAxisLength</th>\n",
       "      <th>AspectRation</th>\n",
       "      <th>Eccentricity</th>\n",
       "      <th>ConvexArea</th>\n",
       "      <th>EquivDiameter</th>\n",
       "      <th>Extent</th>\n",
       "      <th>Solidity</th>\n",
       "      <th>roundness</th>\n",
       "      <th>Compactness</th>\n",
       "      <th>ShapeFactor1</th>\n",
       "      <th>ShapeFactor2</th>\n",
       "      <th>ShapeFactor3</th>\n",
       "      <th>ShapeFactor4</th>\n",
       "      <th>Class</th>\n",
       "    </tr>\n",
       "  </thead>\n",
       "  <tbody>\n",
       "    <tr>\n",
       "      <th>0</th>\n",
       "      <td>-0.840749</td>\n",
       "      <td>-1.143319</td>\n",
       "      <td>-1.306598</td>\n",
       "      <td>-0.631153</td>\n",
       "      <td>-1.565053</td>\n",
       "      <td>-2.185720</td>\n",
       "      <td>-0.841451</td>\n",
       "      <td>-1.063341</td>\n",
       "      <td>0.289087</td>\n",
       "      <td>0.367613</td>\n",
       "      <td>1.423867</td>\n",
       "      <td>1.839116</td>\n",
       "      <td>0.680786</td>\n",
       "      <td>2.402173</td>\n",
       "      <td>1.925723</td>\n",
       "      <td>0.838371</td>\n",
       "      <td>SEKER</td>\n",
       "    </tr>\n",
       "    <tr>\n",
       "      <th>1</th>\n",
       "      <td>-0.829188</td>\n",
       "      <td>-1.013924</td>\n",
       "      <td>-1.395911</td>\n",
       "      <td>-0.434445</td>\n",
       "      <td>-1.969784</td>\n",
       "      <td>-3.686040</td>\n",
       "      <td>-0.826102</td>\n",
       "      <td>-1.044217</td>\n",
       "      <td>0.697477</td>\n",
       "      <td>-0.462907</td>\n",
       "      <td>0.231054</td>\n",
       "      <td>2.495449</td>\n",
       "      <td>0.367967</td>\n",
       "      <td>3.100893</td>\n",
       "      <td>2.689702</td>\n",
       "      <td>0.771138</td>\n",
       "      <td>SEKER</td>\n",
       "    </tr>\n",
       "    <tr>\n",
       "      <th>2</th>\n",
       "      <td>-0.807157</td>\n",
       "      <td>-1.078829</td>\n",
       "      <td>-1.252357</td>\n",
       "      <td>-0.585735</td>\n",
       "      <td>-1.514291</td>\n",
       "      <td>-2.045336</td>\n",
       "      <td>-0.808704</td>\n",
       "      <td>-1.008084</td>\n",
       "      <td>0.578195</td>\n",
       "      <td>0.518417</td>\n",
       "      <td>1.252865</td>\n",
       "      <td>1.764843</td>\n",
       "      <td>0.603129</td>\n",
       "      <td>2.235091</td>\n",
       "      <td>1.841356</td>\n",
       "      <td>0.916755</td>\n",
       "      <td>SEKER</td>\n",
       "    </tr>\n",
       "    <tr>\n",
       "      <th>3</th>\n",
       "      <td>-0.785741</td>\n",
       "      <td>-0.977215</td>\n",
       "      <td>-1.278825</td>\n",
       "      <td>-0.439290</td>\n",
       "      <td>-1.741618</td>\n",
       "      <td>-2.742211</td>\n",
       "      <td>-0.773975</td>\n",
       "      <td>-0.973337</td>\n",
       "      <td>0.671260</td>\n",
       "      <td>-2.241767</td>\n",
       "      <td>0.515049</td>\n",
       "      <td>2.081715</td>\n",
       "      <td>0.401718</td>\n",
       "      <td>2.515075</td>\n",
       "      <td>2.204250</td>\n",
       "      <td>-0.197985</td>\n",
       "      <td>SEKER</td>\n",
       "    </tr>\n",
       "    <tr>\n",
       "      <th>4</th>\n",
       "      <td>-0.781239</td>\n",
       "      <td>-1.097384</td>\n",
       "      <td>-1.380471</td>\n",
       "      <td>-0.266663</td>\n",
       "      <td>-2.117993</td>\n",
       "      <td>-4.535028</td>\n",
       "      <td>-0.784286</td>\n",
       "      <td>-0.966080</td>\n",
       "      <td>0.476020</td>\n",
       "      <td>0.804772</td>\n",
       "      <td>1.874992</td>\n",
       "      <td>2.765330</td>\n",
       "      <td>0.118268</td>\n",
       "      <td>3.270983</td>\n",
       "      <td>3.013462</td>\n",
       "      <td>0.939640</td>\n",
       "      <td>SEKER</td>\n",
       "    </tr>\n",
       "    <tr>\n",
       "      <th>...</th>\n",
       "      <td>...</td>\n",
       "      <td>...</td>\n",
       "      <td>...</td>\n",
       "      <td>...</td>\n",
       "      <td>...</td>\n",
       "      <td>...</td>\n",
       "      <td>...</td>\n",
       "      <td>...</td>\n",
       "      <td>...</td>\n",
       "      <td>...</td>\n",
       "      <td>...</td>\n",
       "      <td>...</td>\n",
       "      <td>...</td>\n",
       "      <td>...</td>\n",
       "      <td>...</td>\n",
       "      <td>...</td>\n",
       "      <td>...</td>\n",
       "    </tr>\n",
       "    <tr>\n",
       "      <th>13606</th>\n",
       "      <td>-0.373471</td>\n",
       "      <td>-0.446083</td>\n",
       "      <td>-0.366669</td>\n",
       "      <td>-0.363055</td>\n",
       "      <td>-0.123703</td>\n",
       "      <td>0.153343</td>\n",
       "      <td>-0.378191</td>\n",
       "      <td>-0.364148</td>\n",
       "      <td>-0.716284</td>\n",
       "      <td>0.684173</td>\n",
       "      <td>0.727872</td>\n",
       "      <td>0.032433</td>\n",
       "      <td>0.261425</td>\n",
       "      <td>0.055630</td>\n",
       "      <td>-0.006086</td>\n",
       "      <td>0.760813</td>\n",
       "      <td>DERMASON</td>\n",
       "    </tr>\n",
       "    <tr>\n",
       "      <th>13607</th>\n",
       "      <td>-0.373334</td>\n",
       "      <td>-0.456336</td>\n",
       "      <td>-0.450053</td>\n",
       "      <td>-0.257015</td>\n",
       "      <td>-0.432979</td>\n",
       "      <td>-0.165141</td>\n",
       "      <td>-0.378662</td>\n",
       "      <td>-0.363962</td>\n",
       "      <td>1.022933</td>\n",
       "      <td>0.774384</td>\n",
       "      <td>0.818807</td>\n",
       "      <td>0.362794</td>\n",
       "      <td>0.110384</td>\n",
       "      <td>0.285117</td>\n",
       "      <td>0.328393</td>\n",
       "      <td>0.722659</td>\n",
       "      <td>DERMASON</td>\n",
       "    </tr>\n",
       "    <tr>\n",
       "      <th>13608</th>\n",
       "      <td>-0.372038</td>\n",
       "      <td>-0.447833</td>\n",
       "      <td>-0.450478</td>\n",
       "      <td>-0.246456</td>\n",
       "      <td>-0.448618</td>\n",
       "      <td>-0.182940</td>\n",
       "      <td>-0.376143</td>\n",
       "      <td>-0.362197</td>\n",
       "      <td>-0.403392</td>\n",
       "      <td>0.591370</td>\n",
       "      <td>0.758468</td>\n",
       "      <td>0.370533</td>\n",
       "      <td>0.104269</td>\n",
       "      <td>0.289204</td>\n",
       "      <td>0.336328</td>\n",
       "      <td>0.390251</td>\n",
       "      <td>DERMASON</td>\n",
       "    </tr>\n",
       "    <tr>\n",
       "      <th>13609</th>\n",
       "      <td>-0.371765</td>\n",
       "      <td>-0.427029</td>\n",
       "      <td>-0.428974</td>\n",
       "      <td>-0.266742</td>\n",
       "      <td>-0.380735</td>\n",
       "      <td>-0.106960</td>\n",
       "      <td>-0.372851</td>\n",
       "      <td>-0.361825</td>\n",
       "      <td>-0.903414</td>\n",
       "      <td>0.143717</td>\n",
       "      <td>0.581753</td>\n",
       "      <td>0.285098</td>\n",
       "      <td>0.141906</td>\n",
       "      <td>0.228375</td>\n",
       "      <td>0.248973</td>\n",
       "      <td>0.036440</td>\n",
       "      <td>DERMASON</td>\n",
       "    </tr>\n",
       "    <tr>\n",
       "      <th>13610</th>\n",
       "      <td>-0.371356</td>\n",
       "      <td>-0.387557</td>\n",
       "      <td>-0.291736</td>\n",
       "      <td>-0.446224</td>\n",
       "      <td>0.148374</td>\n",
       "      <td>0.389116</td>\n",
       "      <td>-0.375101</td>\n",
       "      <td>-0.361268</td>\n",
       "      <td>0.799227</td>\n",
       "      <td>0.537539</td>\n",
       "      <td>0.253681</td>\n",
       "      <td>-0.240904</td>\n",
       "      <td>0.387512</td>\n",
       "      <td>-0.127776</td>\n",
       "      <td>-0.276481</td>\n",
       "      <td>0.713719</td>\n",
       "      <td>DERMASON</td>\n",
       "    </tr>\n",
       "  </tbody>\n",
       "</table>\n",
       "<p>13611 rows × 17 columns</p>\n",
       "</div>\n",
       "      <button class=\"colab-df-convert\" onclick=\"convertToInteractive('df-d0c7ec44-01eb-470e-b8dc-08413931be75')\"\n",
       "              title=\"Convert this dataframe to an interactive table.\"\n",
       "              style=\"display:none;\">\n",
       "        \n",
       "  <svg xmlns=\"http://www.w3.org/2000/svg\" height=\"24px\"viewBox=\"0 0 24 24\"\n",
       "       width=\"24px\">\n",
       "    <path d=\"M0 0h24v24H0V0z\" fill=\"none\"/>\n",
       "    <path d=\"M18.56 5.44l.94 2.06.94-2.06 2.06-.94-2.06-.94-.94-2.06-.94 2.06-2.06.94zm-11 1L8.5 8.5l.94-2.06 2.06-.94-2.06-.94L8.5 2.5l-.94 2.06-2.06.94zm10 10l.94 2.06.94-2.06 2.06-.94-2.06-.94-.94-2.06-.94 2.06-2.06.94z\"/><path d=\"M17.41 7.96l-1.37-1.37c-.4-.4-.92-.59-1.43-.59-.52 0-1.04.2-1.43.59L10.3 9.45l-7.72 7.72c-.78.78-.78 2.05 0 2.83L4 21.41c.39.39.9.59 1.41.59.51 0 1.02-.2 1.41-.59l7.78-7.78 2.81-2.81c.8-.78.8-2.07 0-2.86zM5.41 20L4 18.59l7.72-7.72 1.47 1.35L5.41 20z\"/>\n",
       "  </svg>\n",
       "      </button>\n",
       "      \n",
       "  <style>\n",
       "    .colab-df-container {\n",
       "      display:flex;\n",
       "      flex-wrap:wrap;\n",
       "      gap: 12px;\n",
       "    }\n",
       "\n",
       "    .colab-df-convert {\n",
       "      background-color: #E8F0FE;\n",
       "      border: none;\n",
       "      border-radius: 50%;\n",
       "      cursor: pointer;\n",
       "      display: none;\n",
       "      fill: #1967D2;\n",
       "      height: 32px;\n",
       "      padding: 0 0 0 0;\n",
       "      width: 32px;\n",
       "    }\n",
       "\n",
       "    .colab-df-convert:hover {\n",
       "      background-color: #E2EBFA;\n",
       "      box-shadow: 0px 1px 2px rgba(60, 64, 67, 0.3), 0px 1px 3px 1px rgba(60, 64, 67, 0.15);\n",
       "      fill: #174EA6;\n",
       "    }\n",
       "\n",
       "    [theme=dark] .colab-df-convert {\n",
       "      background-color: #3B4455;\n",
       "      fill: #D2E3FC;\n",
       "    }\n",
       "\n",
       "    [theme=dark] .colab-df-convert:hover {\n",
       "      background-color: #434B5C;\n",
       "      box-shadow: 0px 1px 3px 1px rgba(0, 0, 0, 0.15);\n",
       "      filter: drop-shadow(0px 1px 2px rgba(0, 0, 0, 0.3));\n",
       "      fill: #FFFFFF;\n",
       "    }\n",
       "  </style>\n",
       "\n",
       "      <script>\n",
       "        const buttonEl =\n",
       "          document.querySelector('#df-d0c7ec44-01eb-470e-b8dc-08413931be75 button.colab-df-convert');\n",
       "        buttonEl.style.display =\n",
       "          google.colab.kernel.accessAllowed ? 'block' : 'none';\n",
       "\n",
       "        async function convertToInteractive(key) {\n",
       "          const element = document.querySelector('#df-d0c7ec44-01eb-470e-b8dc-08413931be75');\n",
       "          const dataTable =\n",
       "            await google.colab.kernel.invokeFunction('convertToInteractive',\n",
       "                                                     [key], {});\n",
       "          if (!dataTable) return;\n",
       "\n",
       "          const docLinkHtml = 'Like what you see? Visit the ' +\n",
       "            '<a target=\"_blank\" href=https://colab.research.google.com/notebooks/data_table.ipynb>data table notebook</a>'\n",
       "            + ' to learn more about interactive tables.';\n",
       "          element.innerHTML = '';\n",
       "          dataTable['output_type'] = 'display_data';\n",
       "          await google.colab.output.renderOutput(dataTable, element);\n",
       "          const docLink = document.createElement('div');\n",
       "          docLink.innerHTML = docLinkHtml;\n",
       "          element.appendChild(docLink);\n",
       "        }\n",
       "      </script>\n",
       "    </div>\n",
       "  </div>\n",
       "  "
      ],
      "text/plain": [
       "           Area  Perimeter  MajorAxisLength  MinorAxisLength  AspectRation  \\\n",
       "0     -0.840749  -1.143319        -1.306598        -0.631153     -1.565053   \n",
       "1     -0.829188  -1.013924        -1.395911        -0.434445     -1.969784   \n",
       "2     -0.807157  -1.078829        -1.252357        -0.585735     -1.514291   \n",
       "3     -0.785741  -0.977215        -1.278825        -0.439290     -1.741618   \n",
       "4     -0.781239  -1.097384        -1.380471        -0.266663     -2.117993   \n",
       "...         ...        ...              ...              ...           ...   \n",
       "13606 -0.373471  -0.446083        -0.366669        -0.363055     -0.123703   \n",
       "13607 -0.373334  -0.456336        -0.450053        -0.257015     -0.432979   \n",
       "13608 -0.372038  -0.447833        -0.450478        -0.246456     -0.448618   \n",
       "13609 -0.371765  -0.427029        -0.428974        -0.266742     -0.380735   \n",
       "13610 -0.371356  -0.387557        -0.291736        -0.446224      0.148374   \n",
       "\n",
       "       Eccentricity  ConvexArea  EquivDiameter    Extent  Solidity  roundness  \\\n",
       "0         -2.185720   -0.841451      -1.063341  0.289087  0.367613   1.423867   \n",
       "1         -3.686040   -0.826102      -1.044217  0.697477 -0.462907   0.231054   \n",
       "2         -2.045336   -0.808704      -1.008084  0.578195  0.518417   1.252865   \n",
       "3         -2.742211   -0.773975      -0.973337  0.671260 -2.241767   0.515049   \n",
       "4         -4.535028   -0.784286      -0.966080  0.476020  0.804772   1.874992   \n",
       "...             ...         ...            ...       ...       ...        ...   \n",
       "13606      0.153343   -0.378191      -0.364148 -0.716284  0.684173   0.727872   \n",
       "13607     -0.165141   -0.378662      -0.363962  1.022933  0.774384   0.818807   \n",
       "13608     -0.182940   -0.376143      -0.362197 -0.403392  0.591370   0.758468   \n",
       "13609     -0.106960   -0.372851      -0.361825 -0.903414  0.143717   0.581753   \n",
       "13610      0.389116   -0.375101      -0.361268  0.799227  0.537539   0.253681   \n",
       "\n",
       "       Compactness  ShapeFactor1  ShapeFactor2  ShapeFactor3  ShapeFactor4  \\\n",
       "0         1.839116      0.680786      2.402173      1.925723      0.838371   \n",
       "1         2.495449      0.367967      3.100893      2.689702      0.771138   \n",
       "2         1.764843      0.603129      2.235091      1.841356      0.916755   \n",
       "3         2.081715      0.401718      2.515075      2.204250     -0.197985   \n",
       "4         2.765330      0.118268      3.270983      3.013462      0.939640   \n",
       "...            ...           ...           ...           ...           ...   \n",
       "13606     0.032433      0.261425      0.055630     -0.006086      0.760813   \n",
       "13607     0.362794      0.110384      0.285117      0.328393      0.722659   \n",
       "13608     0.370533      0.104269      0.289204      0.336328      0.390251   \n",
       "13609     0.285098      0.141906      0.228375      0.248973      0.036440   \n",
       "13610    -0.240904      0.387512     -0.127776     -0.276481      0.713719   \n",
       "\n",
       "          Class  \n",
       "0         SEKER  \n",
       "1         SEKER  \n",
       "2         SEKER  \n",
       "3         SEKER  \n",
       "4         SEKER  \n",
       "...         ...  \n",
       "13606  DERMASON  \n",
       "13607  DERMASON  \n",
       "13608  DERMASON  \n",
       "13609  DERMASON  \n",
       "13610  DERMASON  \n",
       "\n",
       "[13611 rows x 17 columns]"
      ]
     },
     "execution_count": 12,
     "metadata": {},
     "output_type": "execute_result"
    }
   ],
   "source": [
    "from sklearn.metrics import f1_score, accuracy_score, confusion_matrix, ConfusionMatrixDisplay\n",
    "from sklearn.preprocessing import StandardScaler\n",
    "\n",
    "\n",
    "# Performing scalar transform\n",
    "scaler = StandardScaler()\n",
    "scaler.fit(feat)\n",
    "scaled_features = scaler.transform(feat)\n",
    "\n",
    "scaled_features = pd.DataFrame(data=scaled_features )\n",
    "scaled_features.columns =  feat.columns\n",
    "scaled_data  = pd.concat([scaled_features, labels], axis=1)\n",
    "scaled_data"
   ]
  },
  {
   "cell_type": "markdown",
   "metadata": {
    "id": "A37gnMntMySb"
   },
   "source": [
    "Creation of Test and Train data"
   ]
  },
  {
   "cell_type": "code",
   "execution_count": null,
   "metadata": {
    "id": "15YY29ygx9go"
   },
   "outputs": [],
   "source": [
    "df_train, df_test   = train_test_split(scaled_data ,test_size=0.2, shuffle=True, random_state=5)\n",
    "\n"
   ]
  },
  {
   "cell_type": "markdown",
   "metadata": {
    "id": "f1PX-U7ZM141"
   },
   "source": [
    "Creation of Train and validation data for model hyperparamter optimization"
   ]
  },
  {
   "cell_type": "code",
   "execution_count": null,
   "metadata": {
    "id": "MaxxQK8xX-Fg"
   },
   "outputs": [],
   "source": [
    "train_data, validation_data =   train_test_split(df_train ,test_size=0.1, shuffle=True, random_state=5)\n",
    "x_tr, y_tr =  split_features_label(train_data)\n",
    "x_val, y_val = split_features_label(validation_data)\n"
   ]
  },
  {
   "cell_type": "markdown",
   "metadata": {
    "id": "6JBT8-psyYs5"
   },
   "source": [
    "**Support Vector Machine**"
   ]
  },
  {
   "cell_type": "markdown",
   "metadata": {
    "id": "8q3784RxMNIO"
   },
   "source": [
    "Optimization for C parameter (regularization)"
   ]
  },
  {
   "cell_type": "code",
   "execution_count": null,
   "metadata": {
    "id": "IWnLtSYCGew9"
   },
   "outputs": [],
   "source": [
    "from sklearn.svm import SVC\n",
    "\n",
    "performance = []\n",
    "reg_param = np.linspace(0.01, 1, num=100)\n",
    "\n",
    "for c in reg_param:\n",
    "  c_val_measure = ()\n",
    "  model_svc = SVC(C=float(c), gamma='scale',\n",
    "                  coef0=0.0, shrinking=False,\n",
    "                  tol=0.001, class_weight=None,\n",
    "                  verbose=False, max_iter=-1, decision_function_shape='ovo',\n",
    "                  break_ties=False, random_state= 5)\n",
    "  \n",
    "  model_svc.fit(x_tr, np.array(y_tr).ravel())\n",
    "  model_predict = model_svc.predict(x_val)\n",
    "  acc = accuracy_score(y_val, model_predict)\n",
    "  c_val_measure = (c,acc)\n",
    "  performance.append(c_val_measure)  \n",
    "\n",
    "\n",
    "\n",
    "\n",
    "\n"
   ]
  },
  {
   "cell_type": "code",
   "execution_count": null,
   "metadata": {
    "colab": {
     "base_uri": "https://localhost:8080/",
     "height": 484
    },
    "id": "uiUTfoi-92Sd",
    "outputId": "55bb58a7-4746-4e40-d572-b4560808c707"
   },
   "outputs": [
    {
     "name": "stdout",
     "output_type": "stream",
     "text": [
      "\n",
      " The best C value with highest accuracy : 0.8200000000000001\n"
     ]
    },
    {
     "data": {
      "image/png": "[encoded data removed]",
      "text/plain": [
       "<Figure size 640x480 with 1 Axes>"
      ]
     },
     "metadata": {},
     "output_type": "display_data"
    }
   ],
   "source": [
    "acc_vc_c=pd.DataFrame(data=performance)\n",
    "acc_vc_c.columns = [\"C\",\"Accuracy\"]\n",
    "sns.lineplot(data=acc_vc_c,x=\"C\", y=\"Accuracy\",)\n",
    "\n",
    "C_value =  acc_vc_c[acc_vc_c[\"Accuracy\"] == max(acc_vc_c['Accuracy'])] \n",
    "C_value = float(C_value[\"C\"]) \n",
    "print('\\n The best C value with highest accuracy : ' + str(C_value))\n",
    "\n"
   ]
  },
  {
   "cell_type": "markdown",
   "metadata": {
    "id": "BzJ9HA0UMVy0"
   },
   "source": [
    "Optimization for kernal"
   ]
  },
  {
   "cell_type": "code",
   "execution_count": null,
   "metadata": {
    "id": "GI26Ylcv_nBA"
   },
   "outputs": [],
   "source": [
    "from sklearn.svm import SVC\n",
    "\n",
    "lst_kernal = [\"linear\", \"poly\", \"rbf\", \"sigmoid\"]\n",
    "kernal_performance = []\n",
    "for kr in lst_kernal:\n",
    "  kernal_measure = ()\n",
    "  model_svc = SVC(C=C_value, kernel = kr, gamma='scale',\n",
    "                  coef0=0.0, shrinking=False,\n",
    "                  tol=0.001, class_weight=None,\n",
    "                  verbose=False, max_iter=-1, decision_function_shape='ovo',\n",
    "                  break_ties=False, random_state= 5)\n",
    "  \n",
    "  model_svc.fit(x_tr, np.array(y_tr).ravel())\n",
    "  model_predict = model_svc.predict(x_val)\n",
    "  acc = accuracy_score(y_val, model_predict)\n",
    "  kernal_measure = (kr, acc)\n",
    "  kernal_performance.append(kernal_measure)  "
   ]
  },
  {
   "cell_type": "code",
   "execution_count": null,
   "metadata": {
    "colab": {
     "base_uri": "https://localhost:8080/",
     "height": 484
    },
    "id": "ehQYvk-jEgYy",
    "outputId": "1c6ab1e7-3762-4c7d-a4a4-c8cd029c86c5"
   },
   "outputs": [
    {
     "name": "stdout",
     "output_type": "stream",
     "text": [
      "\n",
      " The best kernal with highest accuracy : rbf\n"
     ]
    },
    {
     "data": {
      "image/png": "[encoded data removed]",
      "text/plain": [
       "<Figure size 640x480 with 1 Axes>"
      ]
     },
     "metadata": {},
     "output_type": "display_data"
    }
   ],
   "source": [
    "acc_vc_kr = pd.DataFrame(data=kernal_performance)\n",
    "acc_vc_kr.columns = [\"Kernal\",\"Accuracy\"]\n",
    "sns.lineplot( data = acc_vc_kr ,x=\"Kernal\", y=\"Accuracy\",)\n",
    "\n",
    "\n",
    "\n",
    "Kernal_value =  acc_vc_kr[acc_vc_kr[\"Accuracy\"] == max(acc_vc_kr['Accuracy'])] \n",
    "Kernal_value = Kernal_value[\"Kernal\"]\n",
    "\n",
    "Kernal_value = str(Kernal_value).split()[1]\n",
    "\n",
    "print('\\n The best kernal with highest accuracy : ' + str(Kernal_value))\n",
    "\n"
   ]
  },
  {
   "cell_type": "markdown",
   "metadata": {
    "id": "9nb2FdmYMaCl"
   },
   "source": [
    "Creating SVM with optimized Hyperparamters\n",
    "\n"
   ]
  },
  {
   "cell_type": "code",
   "execution_count": null,
   "metadata": {
    "colab": {
     "base_uri": "https://localhost:8080/",
     "height": 92
    },
    "id": "Aomj67SIZs1d",
    "outputId": "861ef63f-d441-4144-920b-35a7b4a921f7"
   },
   "outputs": [
    {
     "data": {
      "text/html": [
       "<style>#sk-container-id-2 {color: black;background-color: white;}#sk-container-id-2 pre{padding: 0;}#sk-container-id-2 div.sk-toggleable {background-color: white;}#sk-container-id-2 label.sk-toggleable__label {cursor: pointer;display: block;width: 100%;margin-bottom: 0;padding: 0.3em;box-sizing: border-box;text-align: center;}#sk-container-id-2 label.sk-toggleable__label-arrow:before {content: \"▸\";float: left;margin-right: 0.25em;color: #696969;}#sk-container-id-2 label.sk-toggleable__label-arrow:hover:before {color: black;}#sk-container-id-2 div.sk-estimator:hover label.sk-toggleable__label-arrow:before {color: black;}#sk-container-id-2 div.sk-toggleable__content {max-height: 0;max-width: 0;overflow: hidden;text-align: left;background-color: #f0f8ff;}#sk-container-id-2 div.sk-toggleable__content pre {margin: 0.2em;color: black;border-radius: 0.25em;background-color: #f0f8ff;}#sk-container-id-2 input.sk-toggleable__control:checked~div.sk-toggleable__content {max-height: 200px;max-width: 100%;overflow: auto;}#sk-container-id-2 input.sk-toggleable__control:checked~label.sk-toggleable__label-arrow:before {content: \"▾\";}#sk-container-id-2 div.sk-estimator input.sk-toggleable__control:checked~label.sk-toggleable__label {background-color: #d4ebff;}#sk-container-id-2 div.sk-label input.sk-toggleable__control:checked~label.sk-toggleable__label {background-color: #d4ebff;}#sk-container-id-2 input.sk-hidden--visually {border: 0;clip: rect(1px 1px 1px 1px);clip: rect(1px, 1px, 1px, 1px);height: 1px;margin: -1px;overflow: hidden;padding: 0;position: absolute;width: 1px;}#sk-container-id-2 div.sk-estimator {font-family: monospace;background-color: #f0f8ff;border: 1px dotted black;border-radius: 0.25em;box-sizing: border-box;margin-bottom: 0.5em;}#sk-container-id-2 div.sk-estimator:hover {background-color: #d4ebff;}#sk-container-id-2 div.sk-parallel-item::after {content: \"\";width: 100%;border-bottom: 1px solid gray;flex-grow: 1;}#sk-container-id-2 div.sk-label:hover label.sk-toggleable__label {background-color: #d4ebff;}#sk-container-id-2 div.sk-serial::before {content: \"\";position: absolute;border-left: 1px solid gray;box-sizing: border-box;top: 0;bottom: 0;left: 50%;z-index: 0;}#sk-container-id-2 div.sk-serial {display: flex;flex-direction: column;align-items: center;background-color: white;padding-right: 0.2em;padding-left: 0.2em;position: relative;}#sk-container-id-2 div.sk-item {position: relative;z-index: 1;}#sk-container-id-2 div.sk-parallel {display: flex;align-items: stretch;justify-content: center;background-color: white;position: relative;}#sk-container-id-2 div.sk-item::before, #sk-container-id-2 div.sk-parallel-item::before {content: \"\";position: absolute;border-left: 1px solid gray;box-sizing: border-box;top: 0;bottom: 0;left: 50%;z-index: -1;}#sk-container-id-2 div.sk-parallel-item {display: flex;flex-direction: column;z-index: 1;position: relative;background-color: white;}#sk-container-id-2 div.sk-parallel-item:first-child::after {align-self: flex-end;width: 50%;}#sk-container-id-2 div.sk-parallel-item:last-child::after {align-self: flex-start;width: 50%;}#sk-container-id-2 div.sk-parallel-item:only-child::after {width: 0;}#sk-container-id-2 div.sk-dashed-wrapped {border: 1px dashed gray;margin: 0 0.4em 0.5em 0.4em;box-sizing: border-box;padding-bottom: 0.4em;background-color: white;}#sk-container-id-2 div.sk-label label {font-family: monospace;font-weight: bold;display: inline-block;line-height: 1.2em;}#sk-container-id-2 div.sk-label-container {text-align: center;}#sk-container-id-2 div.sk-container {/* jupyter's `normalize.less` sets `[hidden] { display: none; }` but bootstrap.min.css set `[hidden] { display: none !important; }` so we also need the `!important` here to be able to override the default hidden behavior on the sphinx rendered scikit-learn.org. See: https://github.com/scikit-learn/scikit-learn/issues/21755 */display: inline-block !important;position: relative;}#sk-container-id-2 div.sk-text-repr-fallback {display: none;}</style><div id=\"sk-container-id-2\" class=\"sk-top-container\"><div class=\"sk-text-repr-fallback\"><pre>SVC(C=0.8200000000000001, decision_function_shape=&#x27;ovo&#x27;, random_state=5,\n",
       "    shrinking=False)</pre><b>In a Jupyter environment, please rerun this cell to show the HTML representation or trust the notebook. <br />On GitHub, the HTML representation is unable to render, please try loading this page with nbviewer.org.</b></div><div class=\"sk-container\" hidden><div class=\"sk-item\"><div class=\"sk-estimator sk-toggleable\"><input class=\"sk-toggleable__control sk-hidden--visually\" id=\"sk-estimator-id-2\" type=\"checkbox\" checked><label for=\"sk-estimator-id-2\" class=\"sk-toggleable__label sk-toggleable__label-arrow\">SVC</label><div class=\"sk-toggleable__content\"><pre>SVC(C=0.8200000000000001, decision_function_shape=&#x27;ovo&#x27;, random_state=5,\n",
       "    shrinking=False)</pre></div></div></div></div></div>"
      ],
      "text/plain": [
       "SVC(C=0.8200000000000001, decision_function_shape='ovo', random_state=5,\n",
       "    shrinking=False)"
      ]
     },
     "execution_count": 67,
     "metadata": {},
     "output_type": "execute_result"
    }
   ],
   "source": [
    "x_train, y_train = split_features_label(df_train)\n",
    "\n",
    "best_model_svc = SVC(C= C_value, kernel = Kernal_value, gamma='scale',\n",
    "                  coef0=0.0, shrinking=False,\n",
    "                  tol=0.001, class_weight=None,\n",
    "                  verbose=False, max_iter=-1, decision_function_shape='ovo',\n",
    "                  break_ties=False, random_state= 5)\n",
    "  \n",
    "best_model_svc.fit(x_train, np.array(y_train).ravel())"
   ]
  },
  {
   "cell_type": "markdown",
   "metadata": {
    "id": "DGoHpszYMhmX"
   },
   "source": [
    "Test results for test Data"
   ]
  },
  {
   "cell_type": "code",
   "execution_count": null,
   "metadata": {
    "id": "CIeCEIpnG-3N"
   },
   "outputs": [],
   "source": [
    "x_test, y_test =   split_features_label(df_test)\n",
    "test_pred = best_model_svc.predict(x_test)\n"
   ]
  },
  {
   "cell_type": "code",
   "execution_count": null,
   "metadata": {
    "colab": {
     "base_uri": "https://localhost:8080/"
    },
    "id": "Bmz6ABkD7IWe",
    "outputId": "c48f96f6-0f3c-43f4-80d3-b1b8a92b1ec4"
   },
   "outputs": [
    {
     "data": {
      "text/plain": [
       "array(['BARBUNYA', 'DERMASON', 'SEKER', ..., 'BARBUNYA', 'DERMASON',\n",
       "       'SEKER'], dtype=object)"
      ]
     },
     "execution_count": 80,
     "metadata": {},
     "output_type": "execute_result"
    }
   ],
   "source": [
    "test_pred"
   ]
  },
  {
   "cell_type": "code",
   "execution_count": null,
   "metadata": {
    "id": "9aatcXKM558f"
   },
   "outputs": [],
   "source": [
    "Final_test_result = pd.DataFrame({\n",
    "    'Test ID': y_test.index,\n",
    "    'Predicted Label': np.array(test_pred),\n",
    "    'Actual Label': np.array(y_test[\"Class\"])\n",
    "})\n",
    "\n",
    "Final_test_result.to_csv('SVM_Predictions.csv', index=False)\n"
   ]
  },
  {
   "cell_type": "code",
   "execution_count": null,
   "metadata": {
    "colab": {
     "base_uri": "https://localhost:8080/",
     "height": 381
    },
    "id": "49jEinNPQ_i-",
    "outputId": "a4a7bdfb-8a34-43e1-ac32-b3eedb4fe0e1"
   },
   "outputs": [
    {
     "data": {
      "image/png": "[encoded data removed]",
      "text/plain": [
       "<Figure size 1500x600 with 1 Axes>"
      ]
     },
     "metadata": {},
     "output_type": "display_data"
    }
   ],
   "source": [
    "from sklearn.metrics import f1_score, precision_score, recall_score\n",
    "\n",
    "\n",
    "\n",
    "prec = precision_score(y_test, test_pred , average=None)\n",
    "rec = recall_score(y_test, test_pred , average=None)\n",
    "f1 = f1_score(y_test, test_pred , average=None)\n",
    "\n",
    "metric_results = {\n",
    "        \"Class\": labels[\"Class\"].unique(),\n",
    "        \"Precision\": prec,\n",
    "        \"Recall\": rec,\n",
    "        \"F1\": f1\n",
    "        }\n",
    "\n",
    "df_metric_results = pd.DataFrame(metric_results)\n",
    "\n",
    "\n",
    "df_metric_results = df_metric_results.melt(id_vars=[\"Class\"], var_name=\"Metric\", value_name=\"Score\")\n",
    "\n",
    "plt.figure(figsize=(15, 6))\n",
    "\n",
    "sns.barplot(data=df_metric_results, x=\"Class\", y=\"Score\", hue=\"Metric\")\n",
    "\n",
    "\n",
    "# Add legend and axis labels\n",
    "plt.legend(title=\"Metric\")\n",
    "plt.xlabel(\"Class\")\n",
    "plt.ylabel(\"Score\")\n",
    "\n",
    "\n",
    "plt.show()\n",
    "\n"
   ]
  },
  {
   "cell_type": "code",
   "execution_count": null,
   "metadata": {
    "colab": {
     "base_uri": "https://localhost:8080/",
     "height": 269
    },
    "id": "2mYYpLyqA3Xh",
    "outputId": "faef0bd0-ce4a-43bf-fe99-aa211a07b816"
   },
   "outputs": [
    {
     "data": {
      "text/html": [
       "\n",
       "  <div id=\"df-0c361903-4468-4e11-86a0-1630fe7b6b25\">\n",
       "    <div class=\"colab-df-container\">\n",
       "      <div>\n",
       "<style scoped>\n",
       "    .dataframe tbody tr th:only-of-type {\n",
       "        vertical-align: middle;\n",
       "    }\n",
       "\n",
       "    .dataframe tbody tr th {\n",
       "        vertical-align: top;\n",
       "    }\n",
       "\n",
       "    .dataframe thead th {\n",
       "        text-align: right;\n",
       "    }\n",
       "</style>\n",
       "<table border=\"1\" class=\"dataframe\">\n",
       "  <thead>\n",
       "    <tr style=\"text-align: right;\">\n",
       "      <th></th>\n",
       "      <th>Class</th>\n",
       "      <th>Precision</th>\n",
       "      <th>Recall</th>\n",
       "      <th>F1</th>\n",
       "    </tr>\n",
       "  </thead>\n",
       "  <tbody>\n",
       "    <tr>\n",
       "      <th>0</th>\n",
       "      <td>SEKER</td>\n",
       "      <td>0.952790</td>\n",
       "      <td>0.909836</td>\n",
       "      <td>0.930818</td>\n",
       "    </tr>\n",
       "    <tr>\n",
       "      <th>1</th>\n",
       "      <td>BARBUNYA</td>\n",
       "      <td>1.000000</td>\n",
       "      <td>1.000000</td>\n",
       "      <td>1.000000</td>\n",
       "    </tr>\n",
       "    <tr>\n",
       "      <th>2</th>\n",
       "      <td>BOMBAY</td>\n",
       "      <td>0.942529</td>\n",
       "      <td>0.942529</td>\n",
       "      <td>0.942529</td>\n",
       "    </tr>\n",
       "    <tr>\n",
       "      <th>3</th>\n",
       "      <td>CALI</td>\n",
       "      <td>0.926330</td>\n",
       "      <td>0.932692</td>\n",
       "      <td>0.929500</td>\n",
       "    </tr>\n",
       "    <tr>\n",
       "      <th>4</th>\n",
       "      <td>HOROZ</td>\n",
       "      <td>0.952000</td>\n",
       "      <td>0.975410</td>\n",
       "      <td>0.963563</td>\n",
       "    </tr>\n",
       "    <tr>\n",
       "      <th>5</th>\n",
       "      <td>SIRA</td>\n",
       "      <td>0.968900</td>\n",
       "      <td>0.944056</td>\n",
       "      <td>0.956316</td>\n",
       "    </tr>\n",
       "    <tr>\n",
       "      <th>6</th>\n",
       "      <td>DERMASON</td>\n",
       "      <td>0.869903</td>\n",
       "      <td>0.883629</td>\n",
       "      <td>0.876712</td>\n",
       "    </tr>\n",
       "  </tbody>\n",
       "</table>\n",
       "</div>\n",
       "      <button class=\"colab-df-convert\" onclick=\"convertToInteractive('df-0c361903-4468-4e11-86a0-1630fe7b6b25')\"\n",
       "              title=\"Convert this dataframe to an interactive table.\"\n",
       "              style=\"display:none;\">\n",
       "        \n",
       "  <svg xmlns=\"http://www.w3.org/2000/svg\" height=\"24px\"viewBox=\"0 0 24 24\"\n",
       "       width=\"24px\">\n",
       "    <path d=\"M0 0h24v24H0V0z\" fill=\"none\"/>\n",
       "    <path d=\"M18.56 5.44l.94 2.06.94-2.06 2.06-.94-2.06-.94-.94-2.06-.94 2.06-2.06.94zm-11 1L8.5 8.5l.94-2.06 2.06-.94-2.06-.94L8.5 2.5l-.94 2.06-2.06.94zm10 10l.94 2.06.94-2.06 2.06-.94-2.06-.94-.94-2.06-.94 2.06-2.06.94z\"/><path d=\"M17.41 7.96l-1.37-1.37c-.4-.4-.92-.59-1.43-.59-.52 0-1.04.2-1.43.59L10.3 9.45l-7.72 7.72c-.78.78-.78 2.05 0 2.83L4 21.41c.39.39.9.59 1.41.59.51 0 1.02-.2 1.41-.59l7.78-7.78 2.81-2.81c.8-.78.8-2.07 0-2.86zM5.41 20L4 18.59l7.72-7.72 1.47 1.35L5.41 20z\"/>\n",
       "  </svg>\n",
       "      </button>\n",
       "      \n",
       "  <style>\n",
       "    .colab-df-container {\n",
       "      display:flex;\n",
       "      flex-wrap:wrap;\n",
       "      gap: 12px;\n",
       "    }\n",
       "\n",
       "    .colab-df-convert {\n",
       "      background-color: #E8F0FE;\n",
       "      border: none;\n",
       "      border-radius: 50%;\n",
       "      cursor: pointer;\n",
       "      display: none;\n",
       "      fill: #1967D2;\n",
       "      height: 32px;\n",
       "      padding: 0 0 0 0;\n",
       "      width: 32px;\n",
       "    }\n",
       "\n",
       "    .colab-df-convert:hover {\n",
       "      background-color: #E2EBFA;\n",
       "      box-shadow: 0px 1px 2px rgba(60, 64, 67, 0.3), 0px 1px 3px 1px rgba(60, 64, 67, 0.15);\n",
       "      fill: #174EA6;\n",
       "    }\n",
       "\n",
       "    [theme=dark] .colab-df-convert {\n",
       "      background-color: #3B4455;\n",
       "      fill: #D2E3FC;\n",
       "    }\n",
       "\n",
       "    [theme=dark] .colab-df-convert:hover {\n",
       "      background-color: #434B5C;\n",
       "      box-shadow: 0px 1px 3px 1px rgba(0, 0, 0, 0.15);\n",
       "      filter: drop-shadow(0px 1px 2px rgba(0, 0, 0, 0.3));\n",
       "      fill: #FFFFFF;\n",
       "    }\n",
       "  </style>\n",
       "\n",
       "      <script>\n",
       "        const buttonEl =\n",
       "          document.querySelector('#df-0c361903-4468-4e11-86a0-1630fe7b6b25 button.colab-df-convert');\n",
       "        buttonEl.style.display =\n",
       "          google.colab.kernel.accessAllowed ? 'block' : 'none';\n",
       "\n",
       "        async function convertToInteractive(key) {\n",
       "          const element = document.querySelector('#df-0c361903-4468-4e11-86a0-1630fe7b6b25');\n",
       "          const dataTable =\n",
       "            await google.colab.kernel.invokeFunction('convertToInteractive',\n",
       "                                                     [key], {});\n",
       "          if (!dataTable) return;\n",
       "\n",
       "          const docLinkHtml = 'Like what you see? Visit the ' +\n",
       "            '<a target=\"_blank\" href=https://colab.research.google.com/notebooks/data_table.ipynb>data table notebook</a>'\n",
       "            + ' to learn more about interactive tables.';\n",
       "          element.innerHTML = '';\n",
       "          dataTable['output_type'] = 'display_data';\n",
       "          await google.colab.output.renderOutput(dataTable, element);\n",
       "          const docLink = document.createElement('div');\n",
       "          docLink.innerHTML = docLinkHtml;\n",
       "          element.appendChild(docLink);\n",
       "        }\n",
       "      </script>\n",
       "    </div>\n",
       "  </div>\n",
       "  "
      ],
      "text/plain": [
       "      Class  Precision    Recall        F1\n",
       "0     SEKER   0.952790  0.909836  0.930818\n",
       "1  BARBUNYA   1.000000  1.000000  1.000000\n",
       "2    BOMBAY   0.942529  0.942529  0.942529\n",
       "3      CALI   0.926330  0.932692  0.929500\n",
       "4     HOROZ   0.952000  0.975410  0.963563\n",
       "5      SIRA   0.968900  0.944056  0.956316\n",
       "6  DERMASON   0.869903  0.883629  0.876712"
      ]
     },
     "execution_count": 22,
     "metadata": {},
     "output_type": "execute_result"
    }
   ],
   "source": [
    "pd.DataFrame(data=metric_results)"
   ]
  },
  {
   "cell_type": "code",
   "execution_count": null,
   "metadata": {
    "colab": {
     "base_uri": "https://localhost:8080/"
    },
    "id": "wQfSBLVq1QA5",
    "outputId": "f19b93f4-1ed1-4654-f1c8-64cf794850e4"
   },
   "outputs": [
    {
     "name": "stdout",
     "output_type": "stream",
     "text": [
      "The overall Precision is 0.9446358599176675\n",
      "The overall Recall is 0.9411645829058971\n",
      "The overall F1 Score is 0.9427768829416932\n"
     ]
    }
   ],
   "source": [
    "prec_overall = precision_score(y_test, test_pred , average='macro')\n",
    "rec_overall = recall_score(y_test, test_pred , average='macro')\n",
    "f1_overall = f1_score(y_test, test_pred , average='macro')\n",
    "\n",
    "print(f\"The overall Precision is {prec_overall}\")\n",
    "print(f\"The overall Recall is {rec_overall}\")\n",
    "print(f\"The overall F1 Score is {f1_overall}\")\n",
    "\n"
   ]
  },
  {
   "cell_type": "code",
   "execution_count": null,
   "metadata": {
    "colab": {
     "base_uri": "https://localhost:8080/",
     "height": 513
    },
    "id": "uOzJ5Y7CZxk6",
    "outputId": "233bd893-debb-4e73-d65d-88b548ddcbb0"
   },
   "outputs": [
    {
     "name": "stdout",
     "output_type": "stream",
     "text": [
      "The overall accuracy is 0.9327947117150202 %\n"
     ]
    },
    {
     "data": {
      "image/png": "[encoded data removed]",
      "text/plain": [
       "<Figure size 640x480 with 2 Axes>"
      ]
     },
     "metadata": {},
     "output_type": "display_data"
    }
   ],
   "source": [
    "from sklearn.metrics import confusion_matrix, accuracy_score\n",
    "\n",
    "acc = accuracy_score(y_test, test_pred)\n",
    "\n",
    "print(f'The overall accuracy is {acc} %')\n",
    "\n",
    "confusion_matrix = confusion_matrix(y_test, test_pred)\n",
    "disp = sns.heatmap(confusion_matrix, annot=True, fmt='d', xticklabels =labels[\"Class\"].unique(), yticklabels=labels[\"Class\"].unique() )\n",
    "\n",
    "disp.plot()\n",
    "plt.show()\n"
   ]
  },
  {
   "cell_type": "markdown",
   "metadata": {
    "id": "7BdhOU76kfjT"
   },
   "source": [
    "Multi Layer Perceptron"
   ]
  },
  {
   "cell_type": "code",
   "execution_count": null,
   "metadata": {
    "id": "BJ5foU91EmZ3"
   },
   "outputs": [],
   "source": [
    "from sklearn.model_selection import KFold\n",
    "\n",
    "# Split data into Features and label\n",
    "X = data.iloc[:, :-1]\n",
    "y = data.iloc[:, -1]\n",
    "\n",
    "# Define k folds\n",
    "kfold = KFold(n_splits=5, shuffle=True, random_state=5)"
   ]
  },
  {
   "cell_type": "code",
   "execution_count": null,
   "metadata": {
    "id": "NpBA1fiRRr2h"
   },
   "outputs": [],
   "source": [
    "# Scale the data\n",
    "scaler = StandardScaler()\n",
    "X = scaler.fit_transform(X)\n",
    "X = pd.DataFrame(data = X)"
   ]
  },
  {
   "cell_type": "code",
   "execution_count": null,
   "metadata": {
    "id": "KUY-iVvFSRxs"
   },
   "outputs": [],
   "source": [
    "from sklearn.preprocessing import StandardScaler, OneHotEncoder\n",
    "\n",
    "# Create y in a form of 2D array\n",
    "ohe = OneHotEncoder()\n",
    "y = ohe.fit_transform(y.values.reshape(-1, 1)).toarray()\n",
    "y = pd.DataFrame(data = y)"
   ]
  },
  {
   "cell_type": "code",
   "execution_count": null,
   "metadata": {
    "id": "hBeJ0I_SPMAt"
   },
   "outputs": [],
   "source": [
    "from keras.models import Sequential\n",
    "from keras.layers import Dense, BatchNormalization\n",
    "\n",
    "# Define the model architecture\n",
    "mlp_model = Sequential()\n",
    "mlp_model.add(Dense(16, activation='relu', input_dim=X.shape[1]))\n",
    "mlp_model.add(BatchNormalization())\n",
    "\n",
    "mlp_model.add(Dense(32, activation='relu'))\n",
    "mlp_model.add(BatchNormalization())\n",
    "\n",
    "mlp_model.add(Dense(16, activation='relu'))\n",
    "mlp_model.add(BatchNormalization())\n",
    "\n",
    "mlp_model.add(Dense(7, activation='sigmoid'))\n",
    "\n",
    "# Compile the model\n",
    "mlp_model.compile(loss='binary_crossentropy', optimizer='adam', metrics=['accuracy'])\n",
    "\n",
    "# Train the model\n"
   ]
  },
  {
   "cell_type": "code",
   "execution_count": null,
   "metadata": {
    "colab": {
     "base_uri": "https://localhost:8080/"
    },
    "id": "ymctuS3QdtXo",
    "outputId": "f6c917af-0f79-49fa-abc8-372126b9bfb7"
   },
   "outputs": [
    {
     "name": "stdout",
     "output_type": "stream",
     "text": [
      "Epoch 1/10\n",
      "341/341 [==============================] - 1s 3ms/step - loss: 0.0562 - accuracy: 0.9266\n",
      "Epoch 2/10\n",
      "341/341 [==============================] - 1s 3ms/step - loss: 0.0552 - accuracy: 0.9251\n",
      "Epoch 3/10\n",
      "341/341 [==============================] - 1s 3ms/step - loss: 0.0553 - accuracy: 0.9263\n",
      "Epoch 4/10\n",
      "341/341 [==============================] - 1s 3ms/step - loss: 0.0547 - accuracy: 0.9260\n",
      "Epoch 5/10\n",
      "341/341 [==============================] - 1s 4ms/step - loss: 0.0550 - accuracy: 0.9253\n",
      "Epoch 6/10\n",
      "341/341 [==============================] - 1s 3ms/step - loss: 0.0547 - accuracy: 0.9279\n",
      "Epoch 7/10\n",
      "341/341 [==============================] - 1s 4ms/step - loss: 0.0538 - accuracy: 0.9293\n",
      "Epoch 8/10\n",
      "341/341 [==============================] - 1s 3ms/step - loss: 0.0551 - accuracy: 0.9246\n",
      "Epoch 9/10\n",
      "341/341 [==============================] - 1s 4ms/step - loss: 0.0546 - accuracy: 0.9250\n",
      "Epoch 10/10\n",
      "341/341 [==============================] - 2s 5ms/step - loss: 0.0543 - accuracy: 0.9262\n",
      "86/86 [==============================] - 0s 2ms/step\n",
      "Epoch 1/10\n",
      "341/341 [==============================] - 1s 3ms/step - loss: 0.0543 - accuracy: 0.9280\n",
      "Epoch 2/10\n",
      "341/341 [==============================] - 1s 3ms/step - loss: 0.0547 - accuracy: 0.9265\n",
      "Epoch 3/10\n",
      "341/341 [==============================] - 1s 4ms/step - loss: 0.0535 - accuracy: 0.9274\n",
      "Epoch 4/10\n",
      "341/341 [==============================] - 2s 5ms/step - loss: 0.0528 - accuracy: 0.9294\n",
      "Epoch 5/10\n",
      "341/341 [==============================] - 2s 5ms/step - loss: 0.0526 - accuracy: 0.9287\n",
      "Epoch 6/10\n",
      "341/341 [==============================] - 1s 3ms/step - loss: 0.0523 - accuracy: 0.9312\n",
      "Epoch 7/10\n",
      "341/341 [==============================] - 1s 3ms/step - loss: 0.0535 - accuracy: 0.9281\n",
      "Epoch 8/10\n",
      "341/341 [==============================] - 1s 3ms/step - loss: 0.0532 - accuracy: 0.9287\n",
      "Epoch 9/10\n",
      "341/341 [==============================] - 1s 3ms/step - loss: 0.0524 - accuracy: 0.9293\n",
      "Epoch 10/10\n",
      "341/341 [==============================] - 1s 3ms/step - loss: 0.0521 - accuracy: 0.9314\n",
      "86/86 [==============================] - 0s 2ms/step\n",
      "Epoch 1/10\n",
      "341/341 [==============================] - 1s 3ms/step - loss: 0.0532 - accuracy: 0.9311\n",
      "Epoch 2/10\n",
      "341/341 [==============================] - 1s 3ms/step - loss: 0.0517 - accuracy: 0.9331\n",
      "Epoch 3/10\n",
      "341/341 [==============================] - 1s 3ms/step - loss: 0.0524 - accuracy: 0.9292\n",
      "Epoch 4/10\n",
      "341/341 [==============================] - 2s 5ms/step - loss: 0.0526 - accuracy: 0.9294\n",
      "Epoch 5/10\n",
      "341/341 [==============================] - 2s 5ms/step - loss: 0.0520 - accuracy: 0.9309\n",
      "Epoch 6/10\n",
      "341/341 [==============================] - 2s 5ms/step - loss: 0.0529 - accuracy: 0.9308\n",
      "Epoch 7/10\n",
      "341/341 [==============================] - 1s 3ms/step - loss: 0.0513 - accuracy: 0.9312\n",
      "Epoch 8/10\n",
      "341/341 [==============================] - 1s 3ms/step - loss: 0.0521 - accuracy: 0.9331\n",
      "Epoch 9/10\n",
      "341/341 [==============================] - 1s 3ms/step - loss: 0.0520 - accuracy: 0.9292\n",
      "Epoch 10/10\n",
      "341/341 [==============================] - 1s 3ms/step - loss: 0.0517 - accuracy: 0.9319\n",
      "86/86 [==============================] - 0s 2ms/step\n",
      "Epoch 1/10\n",
      "341/341 [==============================] - 1s 3ms/step - loss: 0.0524 - accuracy: 0.9306\n",
      "Epoch 2/10\n",
      "341/341 [==============================] - 1s 3ms/step - loss: 0.0523 - accuracy: 0.9290\n",
      "Epoch 3/10\n",
      "341/341 [==============================] - 1s 3ms/step - loss: 0.0531 - accuracy: 0.9298\n",
      "Epoch 4/10\n",
      "341/341 [==============================] - 1s 3ms/step - loss: 0.0528 - accuracy: 0.9281\n",
      "Epoch 5/10\n",
      "341/341 [==============================] - 2s 5ms/step - loss: 0.0522 - accuracy: 0.9297\n",
      "Epoch 6/10\n",
      "341/341 [==============================] - 2s 5ms/step - loss: 0.0527 - accuracy: 0.9313\n",
      "Epoch 7/10\n",
      "341/341 [==============================] - 2s 4ms/step - loss: 0.0522 - accuracy: 0.9311\n",
      "Epoch 8/10\n",
      "341/341 [==============================] - 1s 3ms/step - loss: 0.0530 - accuracy: 0.9303\n",
      "Epoch 9/10\n",
      "341/341 [==============================] - 1s 3ms/step - loss: 0.0522 - accuracy: 0.9302\n",
      "Epoch 10/10\n",
      "341/341 [==============================] - 1s 3ms/step - loss: 0.0524 - accuracy: 0.9312\n",
      "86/86 [==============================] - 0s 2ms/step\n",
      "Epoch 1/10\n",
      "341/341 [==============================] - 1s 3ms/step - loss: 0.0531 - accuracy: 0.9308\n",
      "Epoch 2/10\n",
      "341/341 [==============================] - 1s 3ms/step - loss: 0.0525 - accuracy: 0.9286\n",
      "Epoch 3/10\n",
      "341/341 [==============================] - 1s 4ms/step - loss: 0.0521 - accuracy: 0.9314\n",
      "Epoch 4/10\n",
      "341/341 [==============================] - 1s 3ms/step - loss: 0.0517 - accuracy: 0.9303\n",
      "Epoch 5/10\n",
      "341/341 [==============================] - 1s 3ms/step - loss: 0.0510 - accuracy: 0.9311\n",
      "Epoch 6/10\n",
      "341/341 [==============================] - 2s 5ms/step - loss: 0.0519 - accuracy: 0.9308\n",
      "Epoch 7/10\n",
      "341/341 [==============================] - 2s 5ms/step - loss: 0.0518 - accuracy: 0.9310\n",
      "Epoch 8/10\n",
      "341/341 [==============================] - 2s 5ms/step - loss: 0.0517 - accuracy: 0.9304\n",
      "Epoch 9/10\n",
      "341/341 [==============================] - 1s 3ms/step - loss: 0.0513 - accuracy: 0.9312\n",
      "Epoch 10/10\n",
      "341/341 [==============================] - 1s 4ms/step - loss: 0.0519 - accuracy: 0.9307\n",
      "86/86 [==============================] - 0s 2ms/step\n"
     ]
    }
   ],
   "source": [
    "from sklearn.metrics import precision_score, recall_score, f1_score, accuracy_score\n",
    "\n",
    "precision_scores = []\n",
    "recall_scores = []\n",
    "f1_scores = []\n",
    "mlp_accuracies = []\n",
    "\n",
    "for train_idx, test_idx in kfold.split(X):\n",
    "    \n",
    "    # Making the test and train data for k fold\n",
    "    X_train, X_test = X.iloc[train_idx,:], X.iloc[test_idx,:]\n",
    "    y_train, y_test = y.iloc[train_idx], y.iloc[test_idx]\n",
    "\n",
    "\n",
    "    mlp_model.fit(X_train, y_train, epochs=10)\n",
    "    \n",
    "    # Predicted values of test set\n",
    "    y_pred = mlp_model.predict(X_test)\n",
    "\n",
    "    # Transforming the predicted values into array\n",
    "    y_pred_array = ohe.inverse_transform(y_pred)\n",
    "\n",
    "    # Transforming the actual values into array\n",
    "    y_test_array = ohe.inverse_transform(y_test)\n",
    "\n",
    "    # Getting the evaluation scores against test set\n",
    "    precision = precision_score(y_test_array, y_pred_array, average='macro')\n",
    "    recall = recall_score(y_test_array, y_pred_array, average='macro')\n",
    "    f1 = f1_score(y_test_array, y_pred_array, average='macro')\n",
    "    mlp_accuracy = accuracy_score(y_test_array, y_pred_array)\n",
    "    \n",
    "    # Appending the results in array\n",
    "    precision_scores.append(precision)\n",
    "    recall_scores.append(recall)\n",
    "    f1_scores.append(f1)\n",
    "    mlp_accuracies.append(mlp_accuracy)\n",
    "\n",
    "\n",
    "\n",
    "\n"
   ]
  },
  {
   "cell_type": "code",
   "execution_count": null,
   "metadata": {
    "colab": {
     "base_uri": "https://localhost:8080/"
    },
    "id": "ExBGlExPhYgt",
    "outputId": "ffd3ab32-fa86-40f9-8581-7e29a7b06108"
   },
   "outputs": [
    {
     "name": "stdout",
     "output_type": "stream",
     "text": [
      "The overall Precision is 0.9444563135497536\n",
      "The overall Recall is 0.9410222664929133\n",
      "The overall F1 Score is 0.9424039088598886\n",
      "The overall accuracy is 0.9313052363961928 %\n"
     ]
    }
   ],
   "source": [
    "    # Getting mean precision, mean recall, and mean F1 score and mean accuracy for overall result\n",
    "\n",
    "    mean_mlp_precision = np.mean(precision_scores)\n",
    "    mean_mlp_recall = np.mean(recall_scores)\n",
    "    mean_mlp_f1 = np.mean(f1_scores)\n",
    "    mean_mlp_accuracy = np.mean(mlp_accuracies)\n",
    "    \n",
    "print(f\"The overall Precision is {mean_mlp_precision}\")\n",
    "print(f\"The overall Recall is {mean_mlp_recall}\")\n",
    "print(f\"The overall F1 Score is {mean_mlp_f1}\")\n",
    "print(f'The overall accuracy is {mean_mlp_accuracy} %')\n"
   ]
  },
  {
   "cell_type": "code",
   "execution_count": null,
   "metadata": {
    "colab": {
     "base_uri": "https://localhost:8080/",
     "height": 206
    },
    "id": "CNagyfQ0xt4x",
    "outputId": "abe11d41-93c1-4782-ec3f-d373f6d6c2a9"
   },
   "outputs": [
    {
     "data": {
      "text/html": [
       "\n",
       "  <div id=\"df-4c3dcb55-88bc-4358-94e1-b24381557c32\">\n",
       "    <div class=\"colab-df-container\">\n",
       "      <div>\n",
       "<style scoped>\n",
       "    .dataframe tbody tr th:only-of-type {\n",
       "        vertical-align: middle;\n",
       "    }\n",
       "\n",
       "    .dataframe tbody tr th {\n",
       "        vertical-align: top;\n",
       "    }\n",
       "\n",
       "    .dataframe thead th {\n",
       "        text-align: right;\n",
       "    }\n",
       "</style>\n",
       "<table border=\"1\" class=\"dataframe\">\n",
       "  <thead>\n",
       "    <tr style=\"text-align: right;\">\n",
       "      <th></th>\n",
       "      <th>K fold</th>\n",
       "      <th>Precision</th>\n",
       "      <th>Recall</th>\n",
       "      <th>F1</th>\n",
       "      <th>accuracy</th>\n",
       "    </tr>\n",
       "  </thead>\n",
       "  <tbody>\n",
       "    <tr>\n",
       "      <th>0</th>\n",
       "      <td>1</td>\n",
       "      <td>0.946580</td>\n",
       "      <td>0.942744</td>\n",
       "      <td>0.944415</td>\n",
       "      <td>0.931305</td>\n",
       "    </tr>\n",
       "    <tr>\n",
       "      <th>1</th>\n",
       "      <td>2</td>\n",
       "      <td>0.941637</td>\n",
       "      <td>0.938185</td>\n",
       "      <td>0.939169</td>\n",
       "      <td>0.931305</td>\n",
       "    </tr>\n",
       "    <tr>\n",
       "      <th>2</th>\n",
       "      <td>3</td>\n",
       "      <td>0.940747</td>\n",
       "      <td>0.935618</td>\n",
       "      <td>0.937936</td>\n",
       "      <td>0.931305</td>\n",
       "    </tr>\n",
       "    <tr>\n",
       "      <th>3</th>\n",
       "      <td>4</td>\n",
       "      <td>0.947095</td>\n",
       "      <td>0.944497</td>\n",
       "      <td>0.945613</td>\n",
       "      <td>0.931305</td>\n",
       "    </tr>\n",
       "    <tr>\n",
       "      <th>4</th>\n",
       "      <td>5</td>\n",
       "      <td>0.946223</td>\n",
       "      <td>0.944068</td>\n",
       "      <td>0.944886</td>\n",
       "      <td>0.931305</td>\n",
       "    </tr>\n",
       "  </tbody>\n",
       "</table>\n",
       "</div>\n",
       "      <button class=\"colab-df-convert\" onclick=\"convertToInteractive('df-4c3dcb55-88bc-4358-94e1-b24381557c32')\"\n",
       "              title=\"Convert this dataframe to an interactive table.\"\n",
       "              style=\"display:none;\">\n",
       "        \n",
       "  <svg xmlns=\"http://www.w3.org/2000/svg\" height=\"24px\"viewBox=\"0 0 24 24\"\n",
       "       width=\"24px\">\n",
       "    <path d=\"M0 0h24v24H0V0z\" fill=\"none\"/>\n",
       "    <path d=\"M18.56 5.44l.94 2.06.94-2.06 2.06-.94-2.06-.94-.94-2.06-.94 2.06-2.06.94zm-11 1L8.5 8.5l.94-2.06 2.06-.94-2.06-.94L8.5 2.5l-.94 2.06-2.06.94zm10 10l.94 2.06.94-2.06 2.06-.94-2.06-.94-.94-2.06-.94 2.06-2.06.94z\"/><path d=\"M17.41 7.96l-1.37-1.37c-.4-.4-.92-.59-1.43-.59-.52 0-1.04.2-1.43.59L10.3 9.45l-7.72 7.72c-.78.78-.78 2.05 0 2.83L4 21.41c.39.39.9.59 1.41.59.51 0 1.02-.2 1.41-.59l7.78-7.78 2.81-2.81c.8-.78.8-2.07 0-2.86zM5.41 20L4 18.59l7.72-7.72 1.47 1.35L5.41 20z\"/>\n",
       "  </svg>\n",
       "      </button>\n",
       "      \n",
       "  <style>\n",
       "    .colab-df-container {\n",
       "      display:flex;\n",
       "      flex-wrap:wrap;\n",
       "      gap: 12px;\n",
       "    }\n",
       "\n",
       "    .colab-df-convert {\n",
       "      background-color: #E8F0FE;\n",
       "      border: none;\n",
       "      border-radius: 50%;\n",
       "      cursor: pointer;\n",
       "      display: none;\n",
       "      fill: #1967D2;\n",
       "      height: 32px;\n",
       "      padding: 0 0 0 0;\n",
       "      width: 32px;\n",
       "    }\n",
       "\n",
       "    .colab-df-convert:hover {\n",
       "      background-color: #E2EBFA;\n",
       "      box-shadow: 0px 1px 2px rgba(60, 64, 67, 0.3), 0px 1px 3px 1px rgba(60, 64, 67, 0.15);\n",
       "      fill: #174EA6;\n",
       "    }\n",
       "\n",
       "    [theme=dark] .colab-df-convert {\n",
       "      background-color: #3B4455;\n",
       "      fill: #D2E3FC;\n",
       "    }\n",
       "\n",
       "    [theme=dark] .colab-df-convert:hover {\n",
       "      background-color: #434B5C;\n",
       "      box-shadow: 0px 1px 3px 1px rgba(0, 0, 0, 0.15);\n",
       "      filter: drop-shadow(0px 1px 2px rgba(0, 0, 0, 0.3));\n",
       "      fill: #FFFFFF;\n",
       "    }\n",
       "  </style>\n",
       "\n",
       "      <script>\n",
       "        const buttonEl =\n",
       "          document.querySelector('#df-4c3dcb55-88bc-4358-94e1-b24381557c32 button.colab-df-convert');\n",
       "        buttonEl.style.display =\n",
       "          google.colab.kernel.accessAllowed ? 'block' : 'none';\n",
       "\n",
       "        async function convertToInteractive(key) {\n",
       "          const element = document.querySelector('#df-4c3dcb55-88bc-4358-94e1-b24381557c32');\n",
       "          const dataTable =\n",
       "            await google.colab.kernel.invokeFunction('convertToInteractive',\n",
       "                                                     [key], {});\n",
       "          if (!dataTable) return;\n",
       "\n",
       "          const docLinkHtml = 'Like what you see? Visit the ' +\n",
       "            '<a target=\"_blank\" href=https://colab.research.google.com/notebooks/data_table.ipynb>data table notebook</a>'\n",
       "            + ' to learn more about interactive tables.';\n",
       "          element.innerHTML = '';\n",
       "          dataTable['output_type'] = 'display_data';\n",
       "          await google.colab.output.renderOutput(dataTable, element);\n",
       "          const docLink = document.createElement('div');\n",
       "          docLink.innerHTML = docLinkHtml;\n",
       "          element.appendChild(docLink);\n",
       "        }\n",
       "      </script>\n",
       "    </div>\n",
       "  </div>\n",
       "  "
      ],
      "text/plain": [
       "   K fold  Precision    Recall        F1  accuracy\n",
       "0       1   0.946580  0.942744  0.944415  0.931305\n",
       "1       2   0.941637  0.938185  0.939169  0.931305\n",
       "2       3   0.940747  0.935618  0.937936  0.931305\n",
       "3       4   0.947095  0.944497  0.945613  0.931305\n",
       "4       5   0.946223  0.944068  0.944886  0.931305"
      ]
     },
     "execution_count": 119,
     "metadata": {},
     "output_type": "execute_result"
    }
   ],
   "source": [
    "from sklearn.metrics import f1_score, precision_score, recall_score, confusion_matrix\n",
    "\n",
    "\n",
    "metric_results = {\n",
    "        \"K fold\": [1,2,3,4,5],\n",
    "        \"Precision\": precision_scores,\n",
    "        \"Recall\": recall_scores,\n",
    "        \"F1\": f1_scores,\n",
    "        \"accuracy\": mean_mlp_accuracy\n",
    "        }\n",
    "\n",
    "df_metric_results = pd.DataFrame(metric_results)\n",
    "df_metric_results"
   ]
  },
  {
   "cell_type": "code",
   "execution_count": null,
   "metadata": {
    "id": "HPSbk_gC8cuV"
   },
   "outputs": [],
   "source": [
    "predicted_y_list = [value[0] for value in y_pred_array ]\n",
    "actual_y_list = [value[0] for value in y_test_array]\n",
    "\n"
   ]
  },
  {
   "cell_type": "code",
   "execution_count": null,
   "metadata": {
    "id": "SpzgpM2Y1iXB"
   },
   "outputs": [],
   "source": [
    "Final_test_result_extra = pd.DataFrame({\n",
    "    'Test ID': y_test.index,\n",
    "    'Predicted Label': predicted_y_list,\n",
    "    'Actual Label': actual_y_list\n",
    "})\n",
    "#Final_test_result_extra\n",
    "Final_test_result_extra.to_csv('MLP_Predictions.csv', index=False)\n"
   ]
  }
 ],
 "metadata": {
  "colab": {
   "provenance": []
  },
  "kernelspec": {
   "display_name": "Python 3 (ipykernel)",
   "language": "python",
   "name": "python3"
  },
  "language_info": {
   "codemirror_mode": {
    "name": "ipython",
    "version": 3
   },
   "file_extension": ".py",
   "mimetype": "text/x-python",
   "name": "python",
   "nbconvert_exporter": "python",
   "pygments_lexer": "ipython3",
   "version": "3.11.5"
  }
 },
 "nbformat": 4,
 "nbformat_minor": 1
}
